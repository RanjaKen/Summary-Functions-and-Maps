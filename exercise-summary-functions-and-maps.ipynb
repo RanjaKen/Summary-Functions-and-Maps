{
 "cells": [
  {
   "cell_type": "markdown",
   "id": "2584b8cc",
   "metadata": {
    "papermill": {
     "duration": 0.009449,
     "end_time": "2024-09-22T13:26:38.270904",
     "exception": false,
     "start_time": "2024-09-22T13:26:38.261455",
     "status": "completed"
    },
    "tags": []
   },
   "source": [
    "**This notebook is an exercise in the [Pandas](https://www.kaggle.com/learn/pandas) course.  You can reference the tutorial at [this link](https://www.kaggle.com/residentmario/summary-functions-and-maps).**\n",
    "\n",
    "---\n"
   ]
  },
  {
   "cell_type": "markdown",
   "id": "535f56ed",
   "metadata": {
    "papermill": {
     "duration": 0.008222,
     "end_time": "2024-09-22T13:26:38.287779",
     "exception": false,
     "start_time": "2024-09-22T13:26:38.279557",
     "status": "completed"
    },
    "tags": []
   },
   "source": [
    "# Introduction\n",
    "\n",
    "Now you are ready to get a deeper understanding of your data.\n",
    "\n",
    "Run the following cell to load your data and some utility functions (including code to check your answers)."
   ]
  },
  {
   "cell_type": "code",
   "execution_count": 1,
   "id": "3c8d3fb1",
   "metadata": {
    "execution": {
     "iopub.execute_input": "2024-09-22T13:26:38.306677Z",
     "iopub.status.busy": "2024-09-22T13:26:38.306219Z",
     "iopub.status.idle": "2024-09-22T13:26:47.406031Z",
     "shell.execute_reply": "2024-09-22T13:26:47.404802Z"
    },
    "papermill": {
     "duration": 9.113034,
     "end_time": "2024-09-22T13:26:47.409298",
     "exception": false,
     "start_time": "2024-09-22T13:26:38.296264",
     "status": "completed"
    },
    "tags": []
   },
   "outputs": [
    {
     "name": "stdout",
     "output_type": "stream",
     "text": [
      "Setup complete.\n"
     ]
    },
    {
     "data": {
      "text/html": [
       "<div>\n",
       "<style scoped>\n",
       "    .dataframe tbody tr th:only-of-type {\n",
       "        vertical-align: middle;\n",
       "    }\n",
       "\n",
       "    .dataframe tbody tr th {\n",
       "        vertical-align: top;\n",
       "    }\n",
       "\n",
       "    .dataframe thead th {\n",
       "        text-align: right;\n",
       "    }\n",
       "</style>\n",
       "<table border=\"1\" class=\"dataframe\">\n",
       "  <thead>\n",
       "    <tr style=\"text-align: right;\">\n",
       "      <th></th>\n",
       "      <th>country</th>\n",
       "      <th>description</th>\n",
       "      <th>designation</th>\n",
       "      <th>points</th>\n",
       "      <th>price</th>\n",
       "      <th>province</th>\n",
       "      <th>region_1</th>\n",
       "      <th>region_2</th>\n",
       "      <th>taster_name</th>\n",
       "      <th>taster_twitter_handle</th>\n",
       "      <th>title</th>\n",
       "      <th>variety</th>\n",
       "      <th>winery</th>\n",
       "    </tr>\n",
       "  </thead>\n",
       "  <tbody>\n",
       "    <tr>\n",
       "      <th>0</th>\n",
       "      <td>Italy</td>\n",
       "      <td>Aromas include tropical fruit, broom, brimston...</td>\n",
       "      <td>Vulkà Bianco</td>\n",
       "      <td>87</td>\n",
       "      <td>NaN</td>\n",
       "      <td>Sicily &amp; Sardinia</td>\n",
       "      <td>Etna</td>\n",
       "      <td>NaN</td>\n",
       "      <td>Kerin O’Keefe</td>\n",
       "      <td>@kerinokeefe</td>\n",
       "      <td>Nicosia 2013 Vulkà Bianco  (Etna)</td>\n",
       "      <td>White Blend</td>\n",
       "      <td>Nicosia</td>\n",
       "    </tr>\n",
       "    <tr>\n",
       "      <th>1</th>\n",
       "      <td>Portugal</td>\n",
       "      <td>This is ripe and fruity, a wine that is smooth...</td>\n",
       "      <td>Avidagos</td>\n",
       "      <td>87</td>\n",
       "      <td>15.0</td>\n",
       "      <td>Douro</td>\n",
       "      <td>NaN</td>\n",
       "      <td>NaN</td>\n",
       "      <td>Roger Voss</td>\n",
       "      <td>@vossroger</td>\n",
       "      <td>Quinta dos Avidagos 2011 Avidagos Red (Douro)</td>\n",
       "      <td>Portuguese Red</td>\n",
       "      <td>Quinta dos Avidagos</td>\n",
       "    </tr>\n",
       "    <tr>\n",
       "      <th>2</th>\n",
       "      <td>US</td>\n",
       "      <td>Tart and snappy, the flavors of lime flesh and...</td>\n",
       "      <td>NaN</td>\n",
       "      <td>87</td>\n",
       "      <td>14.0</td>\n",
       "      <td>Oregon</td>\n",
       "      <td>Willamette Valley</td>\n",
       "      <td>Willamette Valley</td>\n",
       "      <td>Paul Gregutt</td>\n",
       "      <td>@paulgwine</td>\n",
       "      <td>Rainstorm 2013 Pinot Gris (Willamette Valley)</td>\n",
       "      <td>Pinot Gris</td>\n",
       "      <td>Rainstorm</td>\n",
       "    </tr>\n",
       "    <tr>\n",
       "      <th>3</th>\n",
       "      <td>US</td>\n",
       "      <td>Pineapple rind, lemon pith and orange blossom ...</td>\n",
       "      <td>Reserve Late Harvest</td>\n",
       "      <td>87</td>\n",
       "      <td>13.0</td>\n",
       "      <td>Michigan</td>\n",
       "      <td>Lake Michigan Shore</td>\n",
       "      <td>NaN</td>\n",
       "      <td>Alexander Peartree</td>\n",
       "      <td>NaN</td>\n",
       "      <td>St. Julian 2013 Reserve Late Harvest Riesling ...</td>\n",
       "      <td>Riesling</td>\n",
       "      <td>St. Julian</td>\n",
       "    </tr>\n",
       "    <tr>\n",
       "      <th>4</th>\n",
       "      <td>US</td>\n",
       "      <td>Much like the regular bottling from 2012, this...</td>\n",
       "      <td>Vintner's Reserve Wild Child Block</td>\n",
       "      <td>87</td>\n",
       "      <td>65.0</td>\n",
       "      <td>Oregon</td>\n",
       "      <td>Willamette Valley</td>\n",
       "      <td>Willamette Valley</td>\n",
       "      <td>Paul Gregutt</td>\n",
       "      <td>@paulgwine</td>\n",
       "      <td>Sweet Cheeks 2012 Vintner's Reserve Wild Child...</td>\n",
       "      <td>Pinot Noir</td>\n",
       "      <td>Sweet Cheeks</td>\n",
       "    </tr>\n",
       "  </tbody>\n",
       "</table>\n",
       "</div>"
      ],
      "text/plain": [
       "    country                                        description  \\\n",
       "0     Italy  Aromas include tropical fruit, broom, brimston...   \n",
       "1  Portugal  This is ripe and fruity, a wine that is smooth...   \n",
       "2        US  Tart and snappy, the flavors of lime flesh and...   \n",
       "3        US  Pineapple rind, lemon pith and orange blossom ...   \n",
       "4        US  Much like the regular bottling from 2012, this...   \n",
       "\n",
       "                          designation  points  price           province  \\\n",
       "0                        Vulkà Bianco      87    NaN  Sicily & Sardinia   \n",
       "1                            Avidagos      87   15.0              Douro   \n",
       "2                                 NaN      87   14.0             Oregon   \n",
       "3                Reserve Late Harvest      87   13.0           Michigan   \n",
       "4  Vintner's Reserve Wild Child Block      87   65.0             Oregon   \n",
       "\n",
       "              region_1           region_2         taster_name  \\\n",
       "0                 Etna                NaN       Kerin O’Keefe   \n",
       "1                  NaN                NaN          Roger Voss   \n",
       "2    Willamette Valley  Willamette Valley        Paul Gregutt   \n",
       "3  Lake Michigan Shore                NaN  Alexander Peartree   \n",
       "4    Willamette Valley  Willamette Valley        Paul Gregutt   \n",
       "\n",
       "  taster_twitter_handle                                              title  \\\n",
       "0          @kerinokeefe                  Nicosia 2013 Vulkà Bianco  (Etna)   \n",
       "1            @vossroger      Quinta dos Avidagos 2011 Avidagos Red (Douro)   \n",
       "2           @paulgwine       Rainstorm 2013 Pinot Gris (Willamette Valley)   \n",
       "3                   NaN  St. Julian 2013 Reserve Late Harvest Riesling ...   \n",
       "4           @paulgwine   Sweet Cheeks 2012 Vintner's Reserve Wild Child...   \n",
       "\n",
       "          variety               winery  \n",
       "0     White Blend              Nicosia  \n",
       "1  Portuguese Red  Quinta dos Avidagos  \n",
       "2      Pinot Gris            Rainstorm  \n",
       "3        Riesling           St. Julian  \n",
       "4      Pinot Noir         Sweet Cheeks  "
      ]
     },
     "execution_count": 1,
     "metadata": {},
     "output_type": "execute_result"
    }
   ],
   "source": [
    "import pandas as pd\n",
    "pd.set_option(\"display.max_rows\", 5)\n",
    "reviews = pd.read_csv(\"../input/wine-reviews/winemag-data-130k-v2.csv\", index_col=0)\n",
    "\n",
    "from learntools.core import binder; binder.bind(globals())\n",
    "from learntools.pandas.summary_functions_and_maps import *\n",
    "print(\"Setup complete.\")\n",
    "\n",
    "reviews.head()"
   ]
  },
  {
   "cell_type": "markdown",
   "id": "c60140f0",
   "metadata": {
    "papermill": {
     "duration": 0.008777,
     "end_time": "2024-09-22T13:26:47.427369",
     "exception": false,
     "start_time": "2024-09-22T13:26:47.418592",
     "status": "completed"
    },
    "tags": []
   },
   "source": [
    "# Exercises"
   ]
  },
  {
   "cell_type": "markdown",
   "id": "ebcffde9",
   "metadata": {
    "papermill": {
     "duration": 0.008565,
     "end_time": "2024-09-22T13:26:47.445014",
     "exception": false,
     "start_time": "2024-09-22T13:26:47.436449",
     "status": "completed"
    },
    "tags": []
   },
   "source": [
    "## 1.\n",
    "\n",
    "What is the median of the `points` column in the `reviews` DataFrame?"
   ]
  },
  {
   "cell_type": "code",
   "execution_count": 2,
   "id": "51cb0026",
   "metadata": {
    "execution": {
     "iopub.execute_input": "2024-09-22T13:26:47.465005Z",
     "iopub.status.busy": "2024-09-22T13:26:47.464553Z",
     "iopub.status.idle": "2024-09-22T13:26:47.476285Z",
     "shell.execute_reply": "2024-09-22T13:26:47.475216Z"
    },
    "papermill": {
     "duration": 0.024838,
     "end_time": "2024-09-22T13:26:47.478828",
     "exception": false,
     "start_time": "2024-09-22T13:26:47.453990",
     "status": "completed"
    },
    "tags": []
   },
   "outputs": [
    {
     "data": {
      "application/javascript": [
       "parent.postMessage({\"jupyterEvent\": \"custom.exercise_interaction\", \"data\": {\"outcomeType\": 1, \"valueTowardsCompletion\": 0.14285714285714285, \"interactionType\": 1, \"questionType\": 1, \"questionId\": \"1_MedianPoints\", \"learnToolsVersion\": \"0.3.4\", \"failureMessage\": \"\", \"exceptionClass\": \"\", \"trace\": \"\"}}, \"*\")"
      ],
      "text/plain": [
       "<IPython.core.display.Javascript object>"
      ]
     },
     "metadata": {},
     "output_type": "display_data"
    },
    {
     "data": {
      "text/markdown": [
       "<span style=\"color:#33cc33\">Correct</span>"
      ],
      "text/plain": [
       "Correct"
      ]
     },
     "metadata": {},
     "output_type": "display_data"
    }
   ],
   "source": [
    "median_points = reviews.points.median()\n",
    "\n",
    "# Check your answer\n",
    "q1.check()"
   ]
  },
  {
   "cell_type": "code",
   "execution_count": 3,
   "id": "f559ebfa",
   "metadata": {
    "execution": {
     "iopub.execute_input": "2024-09-22T13:26:47.499602Z",
     "iopub.status.busy": "2024-09-22T13:26:47.499149Z",
     "iopub.status.idle": "2024-09-22T13:26:47.503986Z",
     "shell.execute_reply": "2024-09-22T13:26:47.502865Z"
    },
    "papermill": {
     "duration": 0.018244,
     "end_time": "2024-09-22T13:26:47.506629",
     "exception": false,
     "start_time": "2024-09-22T13:26:47.488385",
     "status": "completed"
    },
    "tags": []
   },
   "outputs": [],
   "source": [
    "#q1.hint()\n",
    "#q1.solution()"
   ]
  },
  {
   "cell_type": "markdown",
   "id": "eed4d4a7",
   "metadata": {
    "papermill": {
     "duration": 0.009079,
     "end_time": "2024-09-22T13:26:47.525107",
     "exception": false,
     "start_time": "2024-09-22T13:26:47.516028",
     "status": "completed"
    },
    "tags": []
   },
   "source": [
    "## 2. \n",
    "What countries are represented in the dataset? (Your answer should not include any duplicates.)"
   ]
  },
  {
   "cell_type": "code",
   "execution_count": 4,
   "id": "538251ba",
   "metadata": {
    "execution": {
     "iopub.execute_input": "2024-09-22T13:26:47.546205Z",
     "iopub.status.busy": "2024-09-22T13:26:47.545330Z",
     "iopub.status.idle": "2024-09-22T13:26:47.564839Z",
     "shell.execute_reply": "2024-09-22T13:26:47.563649Z"
    },
    "papermill": {
     "duration": 0.032699,
     "end_time": "2024-09-22T13:26:47.567317",
     "exception": false,
     "start_time": "2024-09-22T13:26:47.534618",
     "status": "completed"
    },
    "tags": []
   },
   "outputs": [
    {
     "data": {
      "application/javascript": [
       "parent.postMessage({\"jupyterEvent\": \"custom.exercise_interaction\", \"data\": {\"outcomeType\": 1, \"valueTowardsCompletion\": 0.14285714285714285, \"interactionType\": 1, \"questionType\": 2, \"questionId\": \"2_UniqueCountries\", \"learnToolsVersion\": \"0.3.4\", \"failureMessage\": \"\", \"exceptionClass\": \"\", \"trace\": \"\"}}, \"*\")"
      ],
      "text/plain": [
       "<IPython.core.display.Javascript object>"
      ]
     },
     "metadata": {},
     "output_type": "display_data"
    },
    {
     "data": {
      "text/markdown": [
       "<span style=\"color:#33cc33\">Correct</span>"
      ],
      "text/plain": [
       "Correct"
      ]
     },
     "metadata": {},
     "output_type": "display_data"
    }
   ],
   "source": [
    "countries = reviews.country.unique()\n",
    "\n",
    "# Check your answer\n",
    "q2.check()"
   ]
  },
  {
   "cell_type": "code",
   "execution_count": 5,
   "id": "9b48eba2",
   "metadata": {
    "execution": {
     "iopub.execute_input": "2024-09-22T13:26:47.589627Z",
     "iopub.status.busy": "2024-09-22T13:26:47.589173Z",
     "iopub.status.idle": "2024-09-22T13:26:47.594108Z",
     "shell.execute_reply": "2024-09-22T13:26:47.592787Z"
    },
    "papermill": {
     "duration": 0.018736,
     "end_time": "2024-09-22T13:26:47.596475",
     "exception": false,
     "start_time": "2024-09-22T13:26:47.577739",
     "status": "completed"
    },
    "tags": []
   },
   "outputs": [],
   "source": [
    "#q2.hint()\n",
    "#q2.solution()"
   ]
  },
  {
   "cell_type": "markdown",
   "id": "f46de097",
   "metadata": {
    "papermill": {
     "duration": 0.009403,
     "end_time": "2024-09-22T13:26:47.615980",
     "exception": false,
     "start_time": "2024-09-22T13:26:47.606577",
     "status": "completed"
    },
    "tags": []
   },
   "source": [
    "## 3.\n",
    "How often does each country appear in the dataset? Create a Series `reviews_per_country` mapping countries to the count of reviews of wines from that country."
   ]
  },
  {
   "cell_type": "code",
   "execution_count": 6,
   "id": "64137ae2",
   "metadata": {
    "execution": {
     "iopub.execute_input": "2024-09-22T13:26:47.637289Z",
     "iopub.status.busy": "2024-09-22T13:26:47.636832Z",
     "iopub.status.idle": "2024-09-22T13:26:47.669147Z",
     "shell.execute_reply": "2024-09-22T13:26:47.667944Z"
    },
    "papermill": {
     "duration": 0.045949,
     "end_time": "2024-09-22T13:26:47.671611",
     "exception": false,
     "start_time": "2024-09-22T13:26:47.625662",
     "status": "completed"
    },
    "tags": []
   },
   "outputs": [
    {
     "data": {
      "application/javascript": [
       "parent.postMessage({\"jupyterEvent\": \"custom.exercise_interaction\", \"data\": {\"outcomeType\": 1, \"valueTowardsCompletion\": 0.14285714285714285, \"interactionType\": 1, \"questionType\": 1, \"questionId\": \"3_ReviewsPerCountry\", \"learnToolsVersion\": \"0.3.4\", \"failureMessage\": \"\", \"exceptionClass\": \"\", \"trace\": \"\"}}, \"*\")"
      ],
      "text/plain": [
       "<IPython.core.display.Javascript object>"
      ]
     },
     "metadata": {},
     "output_type": "display_data"
    },
    {
     "data": {
      "text/markdown": [
       "<span style=\"color:#33cc33\">Correct</span>"
      ],
      "text/plain": [
       "Correct"
      ]
     },
     "metadata": {},
     "output_type": "display_data"
    }
   ],
   "source": [
    "reviews_per_country = reviews.country.value_counts()\n",
    "\n",
    "# Check your answer\n",
    "q3.check()"
   ]
  },
  {
   "cell_type": "code",
   "execution_count": 7,
   "id": "7e09859e",
   "metadata": {
    "execution": {
     "iopub.execute_input": "2024-09-22T13:26:47.693971Z",
     "iopub.status.busy": "2024-09-22T13:26:47.693517Z",
     "iopub.status.idle": "2024-09-22T13:26:47.698568Z",
     "shell.execute_reply": "2024-09-22T13:26:47.697348Z"
    },
    "papermill": {
     "duration": 0.019557,
     "end_time": "2024-09-22T13:26:47.701188",
     "exception": false,
     "start_time": "2024-09-22T13:26:47.681631",
     "status": "completed"
    },
    "tags": []
   },
   "outputs": [],
   "source": [
    "#q3.hint()\n",
    "#q3.solution()"
   ]
  },
  {
   "cell_type": "markdown",
   "id": "93c53642",
   "metadata": {
    "papermill": {
     "duration": 0.009817,
     "end_time": "2024-09-22T13:26:47.721022",
     "exception": false,
     "start_time": "2024-09-22T13:26:47.711205",
     "status": "completed"
    },
    "tags": []
   },
   "source": [
    "## 4.\n",
    "Create variable `centered_price` containing a version of the `price` column with the mean price subtracted.\n",
    "\n",
    "(Note: this 'centering' transformation is a common preprocessing step before applying various machine learning algorithms.) "
   ]
  },
  {
   "cell_type": "code",
   "execution_count": 8,
   "id": "f5267e67",
   "metadata": {
    "execution": {
     "iopub.execute_input": "2024-09-22T13:26:47.742899Z",
     "iopub.status.busy": "2024-09-22T13:26:47.742449Z",
     "iopub.status.idle": "2024-09-22T13:26:47.753881Z",
     "shell.execute_reply": "2024-09-22T13:26:47.752819Z"
    },
    "papermill": {
     "duration": 0.02526,
     "end_time": "2024-09-22T13:26:47.756256",
     "exception": false,
     "start_time": "2024-09-22T13:26:47.730996",
     "status": "completed"
    },
    "tags": []
   },
   "outputs": [
    {
     "data": {
      "application/javascript": [
       "parent.postMessage({\"jupyterEvent\": \"custom.exercise_interaction\", \"data\": {\"outcomeType\": 1, \"valueTowardsCompletion\": 0.14285714285714285, \"interactionType\": 1, \"questionType\": 1, \"questionId\": \"4_CenteredPrice\", \"learnToolsVersion\": \"0.3.4\", \"failureMessage\": \"\", \"exceptionClass\": \"\", \"trace\": \"\"}}, \"*\")"
      ],
      "text/plain": [
       "<IPython.core.display.Javascript object>"
      ]
     },
     "metadata": {},
     "output_type": "display_data"
    },
    {
     "data": {
      "text/markdown": [
       "<span style=\"color:#33cc33\">Correct</span>"
      ],
      "text/plain": [
       "Correct"
      ]
     },
     "metadata": {},
     "output_type": "display_data"
    }
   ],
   "source": [
    "centered_price = reviews.price - reviews.price.mean()\n",
    "\n",
    "# Check your answer\n",
    "q4.check()"
   ]
  },
  {
   "cell_type": "code",
   "execution_count": 9,
   "id": "81c627a8",
   "metadata": {
    "execution": {
     "iopub.execute_input": "2024-09-22T13:26:47.780237Z",
     "iopub.status.busy": "2024-09-22T13:26:47.779822Z",
     "iopub.status.idle": "2024-09-22T13:26:47.784639Z",
     "shell.execute_reply": "2024-09-22T13:26:47.783542Z"
    },
    "papermill": {
     "duration": 0.020387,
     "end_time": "2024-09-22T13:26:47.787149",
     "exception": false,
     "start_time": "2024-09-22T13:26:47.766762",
     "status": "completed"
    },
    "tags": []
   },
   "outputs": [],
   "source": [
    "#q4.hint()\n",
    "#q4.solution()"
   ]
  },
  {
   "cell_type": "markdown",
   "id": "2de43003",
   "metadata": {
    "papermill": {
     "duration": 0.009967,
     "end_time": "2024-09-22T13:26:47.807423",
     "exception": false,
     "start_time": "2024-09-22T13:26:47.797456",
     "status": "completed"
    },
    "tags": []
   },
   "source": [
    "## 5.\n",
    "I'm an economical wine buyer. Which wine is the \"best bargain\"? Create a variable `bargain_wine` with the title of the wine with the highest points-to-price ratio in the dataset."
   ]
  },
  {
   "cell_type": "code",
   "execution_count": 10,
   "id": "39d81f6f",
   "metadata": {
    "execution": {
     "iopub.execute_input": "2024-09-22T13:26:47.830050Z",
     "iopub.status.busy": "2024-09-22T13:26:47.829254Z",
     "iopub.status.idle": "2024-09-22T13:26:47.843822Z",
     "shell.execute_reply": "2024-09-22T13:26:47.842724Z"
    },
    "papermill": {
     "duration": 0.028436,
     "end_time": "2024-09-22T13:26:47.846187",
     "exception": false,
     "start_time": "2024-09-22T13:26:47.817751",
     "status": "completed"
    },
    "tags": []
   },
   "outputs": [
    {
     "data": {
      "application/javascript": [
       "parent.postMessage({\"jupyterEvent\": \"custom.exercise_interaction\", \"data\": {\"outcomeType\": 1, \"valueTowardsCompletion\": 0.14285714285714285, \"interactionType\": 1, \"questionType\": 2, \"questionId\": \"5_BargainWine\", \"learnToolsVersion\": \"0.3.4\", \"failureMessage\": \"\", \"exceptionClass\": \"\", \"trace\": \"\"}}, \"*\")"
      ],
      "text/plain": [
       "<IPython.core.display.Javascript object>"
      ]
     },
     "metadata": {},
     "output_type": "display_data"
    },
    {
     "data": {
      "text/markdown": [
       "<span style=\"color:#33cc33\">Correct</span>"
      ],
      "text/plain": [
       "Correct"
      ]
     },
     "metadata": {},
     "output_type": "display_data"
    }
   ],
   "source": [
    "\n",
    "ratio= (reviews.points/reviews.price).idxmax()\n",
    "bargain_wine = reviews.loc[ratio,'title']\n",
    "\n",
    "# Check your answer\n",
    "q5.check()"
   ]
  },
  {
   "cell_type": "code",
   "execution_count": 11,
   "id": "b4cc07ee",
   "metadata": {
    "execution": {
     "iopub.execute_input": "2024-09-22T13:26:47.869276Z",
     "iopub.status.busy": "2024-09-22T13:26:47.868838Z",
     "iopub.status.idle": "2024-09-22T13:26:47.873806Z",
     "shell.execute_reply": "2024-09-22T13:26:47.872734Z"
    },
    "papermill": {
     "duration": 0.019539,
     "end_time": "2024-09-22T13:26:47.876380",
     "exception": false,
     "start_time": "2024-09-22T13:26:47.856841",
     "status": "completed"
    },
    "tags": []
   },
   "outputs": [],
   "source": [
    "#q5.hint()\n",
    "#q5.solution()"
   ]
  },
  {
   "cell_type": "markdown",
   "id": "77746956",
   "metadata": {
    "papermill": {
     "duration": 0.010634,
     "end_time": "2024-09-22T13:26:47.897560",
     "exception": false,
     "start_time": "2024-09-22T13:26:47.886926",
     "status": "completed"
    },
    "tags": []
   },
   "source": [
    "## 6.\n",
    "There are only so many words you can use when describing a bottle of wine. Is a wine more likely to be \"tropical\" or \"fruity\"? Create a Series `descriptor_counts` counting how many times each of these two words appears in the `description` column in the dataset. (For simplicity, let's ignore the capitalized versions of these words.)"
   ]
  },
  {
   "cell_type": "code",
   "execution_count": 12,
   "id": "92a3929b",
   "metadata": {
    "execution": {
     "iopub.execute_input": "2024-09-22T13:26:47.921420Z",
     "iopub.status.busy": "2024-09-22T13:26:47.920309Z",
     "iopub.status.idle": "2024-09-22T13:26:48.105892Z",
     "shell.execute_reply": "2024-09-22T13:26:48.104731Z"
    },
    "papermill": {
     "duration": 0.199913,
     "end_time": "2024-09-22T13:26:48.108259",
     "exception": false,
     "start_time": "2024-09-22T13:26:47.908346",
     "status": "completed"
    },
    "tags": []
   },
   "outputs": [
    {
     "data": {
      "application/javascript": [
       "parent.postMessage({\"jupyterEvent\": \"custom.exercise_interaction\", \"data\": {\"outcomeType\": 1, \"valueTowardsCompletion\": 0.14285714285714285, \"interactionType\": 1, \"questionType\": 1, \"questionId\": \"6_DescriptorCounts\", \"learnToolsVersion\": \"0.3.4\", \"failureMessage\": \"\", \"exceptionClass\": \"\", \"trace\": \"\"}}, \"*\")"
      ],
      "text/plain": [
       "<IPython.core.display.Javascript object>"
      ]
     },
     "metadata": {},
     "output_type": "display_data"
    },
    {
     "data": {
      "text/markdown": [
       "<span style=\"color:#33cc33\">Correct</span>"
      ],
      "text/plain": [
       "Correct"
      ]
     },
     "metadata": {},
     "output_type": "display_data"
    }
   ],
   "source": [
    "nb_t = reviews.description.map(lambda desc: \"tropical\" in desc).sum()\n",
    "nb_f = reviews.description.map(lambda desc: \"fruity\" in desc).sum()\n",
    "\n",
    "descriptor_counts = pd.Series([nb_t,nb_f], index=[\"tropical\",\"fruity\"])\n",
    "\n",
    "# Check your answer\n",
    "q6.check()"
   ]
  },
  {
   "cell_type": "code",
   "execution_count": 13,
   "id": "b8a0a097",
   "metadata": {
    "execution": {
     "iopub.execute_input": "2024-09-22T13:26:48.132067Z",
     "iopub.status.busy": "2024-09-22T13:26:48.131636Z",
     "iopub.status.idle": "2024-09-22T13:26:48.136728Z",
     "shell.execute_reply": "2024-09-22T13:26:48.135519Z"
    },
    "papermill": {
     "duration": 0.019919,
     "end_time": "2024-09-22T13:26:48.139184",
     "exception": false,
     "start_time": "2024-09-22T13:26:48.119265",
     "status": "completed"
    },
    "tags": []
   },
   "outputs": [],
   "source": [
    "#q6.hint()\n",
    "#q6.solution()"
   ]
  },
  {
   "cell_type": "markdown",
   "id": "2965120e",
   "metadata": {
    "papermill": {
     "duration": 0.01075,
     "end_time": "2024-09-22T13:26:48.161041",
     "exception": false,
     "start_time": "2024-09-22T13:26:48.150291",
     "status": "completed"
    },
    "tags": []
   },
   "source": [
    "## 7.\n",
    "We'd like to host these wine reviews on our website, but a rating system ranging from 80 to 100 points is too hard to understand - we'd like to translate them into simple star ratings. A score of 95 or higher counts as 3 stars, a score of at least 85 but less than 95 is 2 stars. Any other score is 1 star.\n",
    "\n",
    "Also, the Canadian Vintners Association bought a lot of ads on the site, so any wines from Canada should automatically get 3 stars, regardless of points.\n",
    "\n",
    "Create a series `star_ratings` with the number of stars corresponding to each review in the dataset."
   ]
  },
  {
   "cell_type": "code",
   "execution_count": 14,
   "id": "0440175f",
   "metadata": {
    "execution": {
     "iopub.execute_input": "2024-09-22T13:26:48.185658Z",
     "iopub.status.busy": "2024-09-22T13:26:48.185189Z",
     "iopub.status.idle": "2024-09-22T13:26:53.459714Z",
     "shell.execute_reply": "2024-09-22T13:26:53.458561Z"
    },
    "papermill": {
     "duration": 5.289892,
     "end_time": "2024-09-22T13:26:53.462478",
     "exception": false,
     "start_time": "2024-09-22T13:26:48.172586",
     "status": "completed"
    },
    "tags": []
   },
   "outputs": [
    {
     "data": {
      "application/javascript": [
       "parent.postMessage({\"jupyterEvent\": \"custom.exercise_interaction\", \"data\": {\"outcomeType\": 1, \"valueTowardsCompletion\": 0.14285714285714285, \"interactionType\": 1, \"questionType\": 1, \"questionId\": \"7_StarRatings\", \"learnToolsVersion\": \"0.3.4\", \"failureMessage\": \"\", \"exceptionClass\": \"\", \"trace\": \"\"}}, \"*\")"
      ],
      "text/plain": [
       "<IPython.core.display.Javascript object>"
      ]
     },
     "metadata": {},
     "output_type": "display_data"
    },
    {
     "data": {
      "text/markdown": [
       "<span style=\"color:#33cc33\">Correct</span>"
      ],
      "text/plain": [
       "Correct"
      ]
     },
     "metadata": {},
     "output_type": "display_data"
    }
   ],
   "source": [
    "def star(row):\n",
    "    if row.country==\"Canada\":\n",
    "        return 3\n",
    "    elif row.points >=95: \n",
    "        return 3\n",
    "    elif row.points >= 85:\n",
    "        return 2\n",
    "    else:\n",
    "        return 1\n",
    "    \n",
    "\n",
    "star_ratings = reviews.apply(star, axis= \"columns\")\n",
    "\n",
    "# Check your answer\n",
    "q7.check()"
   ]
  },
  {
   "cell_type": "code",
   "execution_count": 15,
   "id": "77f8c387",
   "metadata": {
    "execution": {
     "iopub.execute_input": "2024-09-22T13:26:53.487207Z",
     "iopub.status.busy": "2024-09-22T13:26:53.486770Z",
     "iopub.status.idle": "2024-09-22T13:26:53.491662Z",
     "shell.execute_reply": "2024-09-22T13:26:53.490435Z"
    },
    "papermill": {
     "duration": 0.02019,
     "end_time": "2024-09-22T13:26:53.494177",
     "exception": false,
     "start_time": "2024-09-22T13:26:53.473987",
     "status": "completed"
    },
    "tags": []
   },
   "outputs": [],
   "source": [
    "#q7.hint()\n",
    "#q7.solution()"
   ]
  },
  {
   "cell_type": "markdown",
   "id": "3641c15c",
   "metadata": {
    "papermill": {
     "duration": 0.011031,
     "end_time": "2024-09-22T13:26:53.516711",
     "exception": false,
     "start_time": "2024-09-22T13:26:53.505680",
     "status": "completed"
    },
    "tags": []
   },
   "source": [
    "# Keep going\n",
    "Continue to **[grouping and sorting](https://www.kaggle.com/residentmario/grouping-and-sorting)**."
   ]
  },
  {
   "cell_type": "markdown",
   "id": "9c55e14f",
   "metadata": {
    "papermill": {
     "duration": 0.01088,
     "end_time": "2024-09-22T13:26:53.538832",
     "exception": false,
     "start_time": "2024-09-22T13:26:53.527952",
     "status": "completed"
    },
    "tags": []
   },
   "source": [
    "---\n",
    "\n",
    "\n",
    "\n",
    "\n",
    "*Have questions or comments? Visit the [course discussion forum](https://www.kaggle.com/learn/pandas/discussion) to chat with other learners.*"
   ]
  }
 ],
 "metadata": {
  "kaggle": {
   "accelerator": "none",
   "dataSources": [
    {
     "datasetId": 655,
     "sourceId": 1252,
     "sourceType": "datasetVersion"
    },
    {
     "datasetId": 2321,
     "sourceId": 3919,
     "sourceType": "datasetVersion"
    },
    {
     "datasetId": 2894,
     "sourceId": 4877,
     "sourceType": "datasetVersion"
    },
    {
     "datasetId": 3491,
     "sourceId": 5624,
     "sourceType": "datasetVersion"
    },
    {
     "datasetId": 1442,
     "sourceId": 8172,
     "sourceType": "datasetVersion"
    },
    {
     "datasetId": 9366,
     "sourceId": 13206,
     "sourceType": "datasetVersion"
    },
    {
     "datasetId": 179555,
     "sourceId": 403916,
     "sourceType": "datasetVersion"
    },
    {
     "datasetId": 4549,
     "sourceId": 466349,
     "sourceType": "datasetVersion"
    },
    {
     "datasetId": 2478,
     "sourceId": 1151655,
     "sourceType": "datasetVersion"
    },
    {
     "datasetId": 10128,
     "sourceId": 5438389,
     "sourceType": "datasetVersion"
    }
   ],
   "isGpuEnabled": false,
   "isInternetEnabled": false,
   "language": "python",
   "sourceType": "notebook"
  },
  "kernelspec": {
   "display_name": "Python 3",
   "language": "python",
   "name": "python3"
  },
  "language_info": {
   "codemirror_mode": {
    "name": "ipython",
    "version": 3
   },
   "file_extension": ".py",
   "mimetype": "text/x-python",
   "name": "python",
   "nbconvert_exporter": "python",
   "pygments_lexer": "ipython3",
   "version": "3.10.14"
  },
  "papermill": {
   "default_parameters": {},
   "duration": 18.770256,
   "end_time": "2024-09-22T13:26:54.071907",
   "environment_variables": {},
   "exception": null,
   "input_path": "__notebook__.ipynb",
   "output_path": "__notebook__.ipynb",
   "parameters": {},
   "start_time": "2024-09-22T13:26:35.301651",
   "version": "2.6.0"
  }
 },
 "nbformat": 4,
 "nbformat_minor": 5
}
